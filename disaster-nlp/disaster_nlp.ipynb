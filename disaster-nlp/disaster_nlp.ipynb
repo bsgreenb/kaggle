{
 "cells": [
  {
   "cell_type": "code",
   "execution_count": 3,
   "metadata": {},
   "outputs": [
    {
     "data": {
      "application/vnd.jupyter.widget-view+json": {
       "model_id": "1a1bd1bbe61448acab6bb1059d3e21f7",
       "version_major": 2,
       "version_minor": 0
      },
      "text/plain": [
       "VBox(children=(HTML(value='<center> <img\\nsrc=https://huggingface.co/front/assets/huggingface_logo-noborder.sv…"
      ]
     },
     "metadata": {},
     "output_type": "display_data"
    }
   ],
   "source": [
    "from huggingface_hub import notebook_login\n",
    "\n",
    "notebook_login()"
   ]
  },
  {
   "cell_type": "code",
   "execution_count": null,
   "metadata": {},
   "outputs": [],
   "source": [
    "!pip install datasets transformers evaluate accelerate"
   ]
  },
  {
   "cell_type": "code",
   "execution_count": null,
   "metadata": {},
   "outputs": [],
   "source": [
    "# https://www.kaggle.com/competitions/nlp-getting-started\n",
    "\n",
    "import numpy as np \n",
    "from datasets import load_dataset, DatasetDict\n",
    "from transformers import AutoTokenizer, DataCollatorWithPadding, AutoModelForSequenceClassification, TrainingArguments, Trainer\n",
    "import evaluate\n",
    "import pandas as pd\n",
    "\n",
    "train_dataset = load_dataset('csv', data_files='train.csv')\n",
    "test_dataset = load_dataset('csv', data_files='test.csv')\n",
    "\n",
    "train_dataset = train_dataset.rename_column(\"target\", \"labels\")\n",
    "\n",
    "# Shuffle the training dataset so no order effects\n",
    "train_dataset = train_dataset.shuffle(seed=1) \n",
    "train_dataset = train_dataset.flatten_indices()\n",
    "\n",
    "# Split into validation and training\n",
    "split_dataset = train_dataset['train'].train_test_split(test_size=0.1)\n",
    "train_dataset, valid_dataset = split_dataset[\"train\"], split_dataset[\"test\"]\n",
    "\n",
    "# Tokenize training, test, and validation\n",
    "tokenizer = AutoTokenizer.from_pretrained(\"distilbert-base-uncased\")\n",
    "def tokenize(row):\n",
    "    return tokenizer(row[\"text\"], truncation=True, padding=\"max_length\", max_length=256)\n",
    "train_dataset = train_dataset.map(tokenize, batched=True)\n",
    "valid_dataset = valid_dataset.map(tokenize, batched=True)\n",
    "test_dataset = test_dataset.map(tokenize, batched=True)\n",
    "\n",
    "model = AutoModelForSequenceClassification.from_pretrained(\"distilbert-base-uncased\", num_labels=2)\n",
    "\n",
    "metrics = evaluate.combine([\"accuracy\", \"f1\", \"precision\", \"recall\"])\n",
    "def compute_metrics(eval_pred):\n",
    "    predictions, labels = eval_pred\n",
    "    predictions = np.argmax(predictions, axis=1)\n",
    "    return metrics.compute(predictions=predictions, references=labels)\n",
    "\n",
    "data_collator = DataCollatorWithPadding(tokenizer=tokenizer)\n",
    "\n",
    "training_args = TrainingArguments(\n",
    "    output_dir=\"my_awesome_model\",\n",
    "    learning_rate=2e-5,\n",
    "    per_device_train_batch_size=16,\n",
    "    per_device_eval_batch_size=16,\n",
    "    num_train_epochs=2,\n",
    "    weight_decay=0.01,\n",
    "    evaluation_strategy=\"steps\",\n",
    "    save_strategy=\"steps\",\n",
    "    load_best_model_at_end=True,\n",
    "    push_to_hub=True,\n",
    ")\n",
    "\n",
    "trainer = Trainer(\n",
    "    model=model,\n",
    "    args=training_args,\n",
    "    train_dataset=train_dataset,\n",
    "    eval_dataset=valid_dataset,\n",
    "    tokenizer=tokenizer,\n",
    "    data_collator=data_collator,\n",
    "    compute_metrics=compute_metrics\n",
    ")\n",
    "\n",
    "trainer.train()\n",
    "trainer.evaluate()\n",
    "trainer.push_to_hub()\n",
    "\n",
    "preds = trainer.predict(test_dataset['train'])\n",
    "preds = np.argmax(preds.predictions, axis=1)\n",
    "\n",
    "submission_df = pd.DataFrame({\n",
    "    \"id\": test_dataset[\"id\"], \n",
    "    \"target\": preds\n",
    "})\n",
    "submission_df.head(10)\n",
    "submission_df.to_csv(\"submit.csv\", index=None)\n",
    "\n",
    "# Improvements?\n",
    "#TODO: consider if stratification during training would help with F1.\n",
    "#TODO: look at other ppl's notebooks that used HF Transformers and see how I can improve score.\n",
    "#TODO: see if including the fields beyond the text of the tweet impacts F1 score or not.  Let's do first pass without that stuff and see how leaderboard goes."
   ]
  }
 ],
 "metadata": {
  "kernelspec": {
   "display_name": "Python 3",
   "language": "python",
   "name": "python3"
  },
  "language_info": {
   "codemirror_mode": {
    "name": "ipython",
    "version": 3
   },
   "file_extension": ".py",
   "mimetype": "text/x-python",
   "name": "python",
   "nbconvert_exporter": "python",
   "pygments_lexer": "ipython3",
   "version": "3.11.7"
  }
 },
 "nbformat": 4,
 "nbformat_minor": 2
}
