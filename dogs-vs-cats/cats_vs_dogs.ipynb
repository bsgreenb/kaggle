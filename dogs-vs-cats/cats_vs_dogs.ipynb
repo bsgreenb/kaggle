{
 "cells": [
  {
   "cell_type": "code",
   "execution_count": null,
   "metadata": {},
   "outputs": [],
   "source": [
    "# Google colab stuff\n",
    "!pip install transformers datasets torch evaluate accelerate"
   ]
  },
  {
   "cell_type": "code",
   "execution_count": null,
   "metadata": {},
   "outputs": [],
   "source": [
    "from datasets import load_dataset\n",
    "from transformers import EfficientNetForImageClassification, EfficientNetImageProcessor\n",
    "\n",
    "dataset = load_dataset('bsgreenb/cats_vs_dogs')\n",
    "model_name = 'google/efficientnet-b0'  # or choose the variant you prefer\n",
    "\n",
    "preprocessor = EfficientNetImageProcessor.from_pretrained(model_name)\n",
    "model = EfficientNetForImageClassification.from_pretrained(model_name)\n",
    "\n",
    "def preprocess_images(examples):\n",
    "    # Apply the preprocessor to each image\n",
    "    examples['pixel_values'] = [preprocessor(image, return_tensors=\"pt\").pixel_values.squeeze() for image in examples['image']]\n",
    "    return examples\n",
    "\n",
    "encoded_dataset = dataset.map(preprocess_images, batched=True)"
   ]
  },
  {
   "cell_type": "code",
   "execution_count": null,
   "metadata": {},
   "outputs": [],
   "source": [
    "train_valid_split = encoded_dataset['train'].train_test_split(test_size=0.2)\n",
    "train_dataset = train_valid_split['train']\n",
    "valid_dataset = train_valid_split['test']\n",
    "test_dataset = encoded_dataset['train']\n",
    "\n",
    "from transformers import Trainer, TrainingArguments\n",
    "\n",
    "import evaluate\n",
    "\n",
    "accuracy = evaluate.load(\"accuracy\")\n",
    "\n",
    "def compute_metrics(eval_pred):\n",
    "    predictions, labels = eval_pred\n",
    "    predictions = np.argmax(predictions, axis=1)\n",
    "    return accuracy.compute(predictions=predictions, references=labels)\n",
    "\n",
    "training_args = TrainingArguments(\n",
    "    output_dir=\"./results\",\n",
    "    learning_rate=2e-5,\n",
    "    per_device_train_batch_size=8,\n",
    "    per_device_eval_batch_size=8,\n",
    "    num_train_epochs=3,\n",
    "    weight_decay=0.01,\n",
    "    evaluation_strategy=\"epoch\",\n",
    ")\n",
    "\n",
    "trainer = Trainer(\n",
    "    model=model,\n",
    "    args=training_args,\n",
    "    train_dataset=train_dataset,\n",
    "    eval_dataset=valid_dataset,\n",
    "    compute_metrics=compute_metrics,\n",
    ")\n",
    "\n",
    "trainer.train()\n",
    "\n",
    "print(trainer.evaluate())"
   ]
  },
  {
   "cell_type": "code",
   "execution_count": null,
   "metadata": {},
   "outputs": [],
   "source": [
    "import numpy as np\n",
    "\n",
    "# Generate predictions\n",
    "predictions = trainer.predict(test_dataset)\n",
    "pred_logits = predictions.predictions\n",
    "pred_labels = np.argmax(pred_logits, axis=-1)  # Convert logits to labels\n",
    "\n",
    "test_ids = test_dataset['id']\n",
    "\n",
    "prediction_pairs = zip(test_ids, pred_labels)\n",
    "\n",
    "import csv\n",
    "\n",
    "# Define the CSV file path\n",
    "output_csv_path = 'predictions.csv'\n",
    "\n",
    "# Write the predictions to a CSV file\n",
    "with open(output_csv_path, 'w', newline='') as csvfile:\n",
    "    writer = csv.writer(csvfile)\n",
    "    writer.writerow(['id', 'label'])  # Write the header\n",
    "    writer.writerows(prediction_pairs)  # Write the ID, label pairs\n"
   ]
  }
 ],
 "metadata": {
  "kernelspec": {
   "display_name": "Python 3",
   "language": "python",
   "name": "python3"
  },
  "language_info": {
   "codemirror_mode": {
    "name": "ipython",
    "version": 3
   },
   "file_extension": ".py",
   "mimetype": "text/x-python",
   "name": "python",
   "nbconvert_exporter": "python",
   "pygments_lexer": "ipython3",
   "version": "3.11.7"
  }
 },
 "nbformat": 4,
 "nbformat_minor": 2
}
