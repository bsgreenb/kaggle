{
 "cells": [
  {
   "cell_type": "code",
   "execution_count": 39,
   "metadata": {},
   "outputs": [
    {
     "data": {
      "application/vnd.jupyter.widget-view+json": {
       "model_id": "63e3182924a249499a45c50283799c54",
       "version_major": 2,
       "version_minor": 0
      },
      "text/plain": [
       "Uploading the dataset shards:   0%|          | 0/2 [00:00<?, ?it/s]"
      ]
     },
     "metadata": {},
     "output_type": "display_data"
    },
    {
     "data": {
      "application/vnd.jupyter.widget-view+json": {
       "model_id": "7d6599ef63b440a1a9f4fad081235ec3",
       "version_major": 2,
       "version_minor": 0
      },
      "text/plain": [
       "Map:   0%|          | 0/12500 [00:00<?, ? examples/s]"
      ]
     },
     "metadata": {},
     "output_type": "display_data"
    },
    {
     "data": {
      "application/vnd.jupyter.widget-view+json": {
       "model_id": "1a8748d4f2884de5a98dc4e3c66b7579",
       "version_major": 2,
       "version_minor": 0
      },
      "text/plain": [
       "Creating parquet from Arrow format:   0%|          | 0/125 [00:00<?, ?ba/s]"
      ]
     },
     "metadata": {},
     "output_type": "display_data"
    },
    {
     "data": {
      "application/vnd.jupyter.widget-view+json": {
       "model_id": "963325ad86174269abcf1d230af3fcff",
       "version_major": 2,
       "version_minor": 0
      },
      "text/plain": [
       "Map:   0%|          | 0/12500 [00:00<?, ? examples/s]"
      ]
     },
     "metadata": {},
     "output_type": "display_data"
    },
    {
     "data": {
      "application/vnd.jupyter.widget-view+json": {
       "model_id": "7b44e5b41b74411798b6b38300b26576",
       "version_major": 2,
       "version_minor": 0
      },
      "text/plain": [
       "Creating parquet from Arrow format:   0%|          | 0/125 [00:00<?, ?ba/s]"
      ]
     },
     "metadata": {},
     "output_type": "display_data"
    },
    {
     "data": {
      "application/vnd.jupyter.widget-view+json": {
       "model_id": "8b4284512023423aa5fe704efcbeaf42",
       "version_major": 2,
       "version_minor": 0
      },
      "text/plain": [
       "Uploading the dataset shards:   0%|          | 0/1 [00:00<?, ?it/s]"
      ]
     },
     "metadata": {},
     "output_type": "display_data"
    },
    {
     "data": {
      "application/vnd.jupyter.widget-view+json": {
       "model_id": "4ca17ce72d7f496faee2262d167471d7",
       "version_major": 2,
       "version_minor": 0
      },
      "text/plain": [
       "Map:   0%|          | 0/12500 [00:00<?, ? examples/s]"
      ]
     },
     "metadata": {},
     "output_type": "display_data"
    },
    {
     "data": {
      "application/vnd.jupyter.widget-view+json": {
       "model_id": "13bfec2ef8b544f3b04ba5516445b494",
       "version_major": 2,
       "version_minor": 0
      },
      "text/plain": [
       "Creating parquet from Arrow format:   0%|          | 0/125 [00:00<?, ?ba/s]"
      ]
     },
     "metadata": {},
     "output_type": "display_data"
    },
    {
     "data": {
      "application/vnd.jupyter.widget-view+json": {
       "model_id": "e464fa1b15c445d0a4ad34303bc5319b",
       "version_major": 2,
       "version_minor": 0
      },
      "text/plain": [
       "README.md:   0%|          | 0.00/488 [00:00<?, ?B/s]"
      ]
     },
     "metadata": {},
     "output_type": "display_data"
    },
    {
     "data": {
      "text/plain": [
       "CommitInfo(commit_url='https://huggingface.co/datasets/bsgreenb/cats_vs_dogs/commit/51f50fba23c85da0a5e4a9db740496279d1cd167', commit_message='Upload dataset', commit_description='', oid='51f50fba23c85da0a5e4a9db740496279d1cd167', pr_url=None, pr_revision=None, pr_num=None)"
      ]
     },
     "execution_count": 39,
     "metadata": {},
     "output_type": "execute_result"
    }
   ],
   "source": [
    "import os\n",
    "from PIL import Image\n",
    "from datasets import Dataset, DatasetDict, Features, ClassLabel, Image as HFImage, Value\n",
    "from IPython.display import display\n",
    "import re\n",
    "\n",
    "\n",
    "data_dir = \"./\"\n",
    "\n",
    "def extract_id_from_filename(filename):\n",
    "    match = re.search(r'(\\d+)\\.jpg$', filename)\n",
    "    if match is None:\n",
    "        raise Exception('Expecting ID on ' + filename)\n",
    "    id = int(match.group(1))\n",
    "    return id\n",
    "\n",
    "def extract_label_from_filename(filename):\n",
    "    return 'cat' if 'cat' in filename else 'dog'\n",
    "\n",
    "def process_data(split):\n",
    "    file_paths = []\n",
    "    labels = []\n",
    "    ids = []\n",
    "    split_dir = os.path.join(data_dir, split)\n",
    "    for img_file in os.listdir(split_dir):\n",
    "        if img_file.endswith('.jpg'):\n",
    "            img_path = os.path.join(split_dir, img_file)\n",
    "            file_paths.append(img_path)\n",
    "            if split == 'train':\n",
    "                labels.append(extract_label_from_filename(img_file))\n",
    "            else:\n",
    "                labels.append(None)\n",
    "            ids.append(extract_id_from_filename(img_file))\n",
    "    return file_paths, labels, ids\n",
    "\n",
    "# Process train and test data\n",
    "train_file_paths, train_labels, train_ids = process_data('train')\n",
    "test_file_paths, test_labels, test_ids = process_data('test')\n",
    "\n",
    "# Define features\n",
    "features = Features({\n",
    "    'image': HFImage(),\n",
    "    'label': ClassLabel(names=['cat', 'dog', None]),\n",
    "    'id': Value('int32')\n",
    "})\n",
    "# Create datasets\n",
    "train_dataset = Dataset.from_dict({'image': train_file_paths, 'label': train_labels, 'id': train_ids}, features=features)\n",
    "test_dataset = Dataset.from_dict({'image': test_file_paths, 'label': test_labels, 'id': test_ids}, features=features)\n",
    "\n",
    "# Combine into a DatasetDict\n",
    "dataset_dict = DatasetDict({\n",
    "    'train': train_dataset,\n",
    "    'test': test_dataset\n",
    "})\n",
    "\n",
    "dataset_dict.push_to_hub(\"bsgreenb/cats_vs_dogs\")"
   ]
  }
 ],
 "metadata": {
  "kernelspec": {
   "display_name": "Python 3",
   "language": "python",
   "name": "python3"
  },
  "language_info": {
   "codemirror_mode": {
    "name": "ipython",
    "version": 3
   },
   "file_extension": ".py",
   "mimetype": "text/x-python",
   "name": "python",
   "nbconvert_exporter": "python",
   "pygments_lexer": "ipython3",
   "version": "3.11.7"
  }
 },
 "nbformat": 4,
 "nbformat_minor": 2
}
