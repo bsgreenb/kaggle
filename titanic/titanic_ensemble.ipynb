{
 "cells": [
  {
   "cell_type": "code",
   "execution_count": 19,
   "metadata": {},
   "outputs": [
    {
     "name": "stdout",
     "output_type": "stream",
     "text": [
      "Score for XGBClassifier:0.8529741863075196\n"
     ]
    },
    {
     "name": "stderr",
     "output_type": "stream",
     "text": [
      "/usr/local/lib/python3.11/site-packages/sklearn/neural_network/_multilayer_perceptron.py:691: ConvergenceWarning: Stochastic Optimizer: Maximum iterations (300) reached and the optimization hasn't converged yet.\n",
      "  warnings.warn(\n"
     ]
    },
    {
     "name": "stdout",
     "output_type": "stream",
     "text": [
      "Score for MLPClassifier:0.8496071829405163\n",
      "Score for LogisticRegression:0.797979797979798\n",
      "Score for SGDClassifier:0.7957351290684624\n",
      "Score for KNeighborsClassifier:0.8428731762065096\n",
      "Score for RandomForestClassifier:0.8978675645342312\n",
      "Score for AdaBoostClassifier:0.8260381593714927\n",
      "Score for NuSVC:0.8417508417508418\n",
      "Score for SVC:0.8439955106621774\n",
      "Score for ExtraTreesClassifier:0.8911335578002245\n",
      "Score for LinearDiscriminantAnalysis:0.8035914702581369\n"
     ]
    },
    {
     "name": "stderr",
     "output_type": "stream",
     "text": [
      "/usr/local/lib/python3.11/site-packages/sklearn/neural_network/_multilayer_perceptron.py:691: ConvergenceWarning: Stochastic Optimizer: Maximum iterations (300) reached and the optimization hasn't converged yet.\n",
      "  warnings.warn(\n"
     ]
    },
    {
     "name": "stdout",
     "output_type": "stream",
     "text": [
      "Accuracy of the hard voting classifier: 0.8484848484848485\n"
     ]
    },
    {
     "name": "stderr",
     "output_type": "stream",
     "text": [
      "/usr/local/lib/python3.11/site-packages/sklearn/neural_network/_multilayer_perceptron.py:691: ConvergenceWarning: Stochastic Optimizer: Maximum iterations (300) reached and the optimization hasn't converged yet.\n",
      "  warnings.warn(\n"
     ]
    },
    {
     "name": "stdout",
     "output_type": "stream",
     "text": [
      "Accuracy of the soft voting classifier: 0.8540965207631874\n"
     ]
    }
   ],
   "source": [
    "# Following section in book: Using the majority voting principle to make predictions\n",
    "\n",
    "import pandas as pd\n",
    "from sklearn.model_selection import train_test_split, cross_val_score, GridSearchCV\n",
    "from sklearn.linear_model import LogisticRegression, SGDClassifier\n",
    "from sklearn.neighbors import KNeighborsClassifier\n",
    "from sklearn.preprocessing import StandardScaler, MinMaxScaler\n",
    "from sklearn.ensemble import VotingClassifier, RandomForestClassifier, AdaBoostClassifier, ExtraTreesClassifier\n",
    "from sklearn.discriminant_analysis import LinearDiscriminantAnalysis\n",
    "from sklearn.neural_network import MLPClassifier\n",
    "from sklearn.naive_bayes import GaussianNB\n",
    "from sklearn.svm import LinearSVC, NuSVC, SVC\n",
    "import xgboost as xgb\n",
    "import numpy as np\n",
    "from sklearn.pipeline import Pipeline\n",
    "from tqdm.notebook import tqdm_notebook\n",
    "\n",
    "def feature_eng(data):\n",
    "    data['Embarked'].fillna(data['Embarked'].mode()[0], inplace = True)\n",
    "    data['FamilySize'] = data['SibSp'] + data['Parch'] + 1\n",
    "    data['Fare'].fillna(data['Fare'].mean(),inplace=True)\n",
    "    eng_title(data)\n",
    "    eng_age(data)\n",
    "\n",
    "def eng_title(data):\n",
    "    data['Title']=0\n",
    "    data['Title']=data.Name.str.extract('([A-Za-z]+)\\.') #lets extract the Salutations\n",
    "    data['Title'].replace(['Mlle','Mme','Ms','Dr','Major','Lady','Countess','Dona','Jonkheer','Col',\n",
    "                         'Rev','Capt','Sir','Don'],['Miss','Miss','Miss','Mr','Mr','Mrs','Mrs','Mrs','Other','Other','Other','Mr','Mr','Mr'],inplace=True)\n",
    "\n",
    "def eng_age(data):\n",
    "    data.loc[(data.Age.isnull())&(data.Title=='Mr'),'Age']= data.Age[data.Title==\"Mr\"].mean()\n",
    "    data.loc[(data.Age.isnull())&(data.Title=='Mrs'),'Age']= data.Age[data.Title==\"Mrs\"].mean()\n",
    "    data.loc[(data.Age.isnull())&(data.Title=='Master'),'Age']= data.Age[data.Title==\"Master\"].mean()\n",
    "    data.loc[(data.Age.isnull())&(data.Title=='Miss'),'Age']= data.Age[data.Title==\"Miss\"].mean()\n",
    "    data.loc[(data.Age.isnull())&(data.Title=='Other'),'Age']= data.Age[data.Title==\"Other\"].mean()\n",
    "\n",
    "\n",
    "train_data = pd.read_csv('train.csv')\n",
    "feature_eng(train_data)\n",
    "\n",
    "test_data = pd.read_csv('test.csv')\n",
    "feature_eng(test_data)\n",
    "\n",
    "features = ['Pclass', 'Sex', 'Age', 'SibSp', 'Parch', 'FamilySize', 'Fare', 'Embarked']\n",
    "\n",
    "X_train = train_data[features]\n",
    "y_train = train_data['Survived']\n",
    "\n",
    "X_test = test_data[features]\n",
    "\n",
    "X_train = pd.get_dummies(X_train)\n",
    "X_test = pd.get_dummies(X_test)\n",
    "\n",
    "# X_train, X_valid, y_train, y_valid = train_test_split(X_train_orig, y_train_orig, stratify=y_train_orig, random_state=1)\n",
    "\n",
    "all_clf = []\n",
    "scalers = []\n",
    "hyper_param_grid = {}\n",
    "\n",
    "def add_clf(clf, hyper_params = {}, scaler=StandardScaler):\n",
    "    all_clf.append(clf)\n",
    "    name = clf.__class__.__name__\n",
    "    hyper_param_grid[name] = hyper_params\n",
    "    scalers.append(scaler)\n",
    "\n",
    "add_clf(xgb.XGBClassifier(max_depth=4, learning_rate=.01, n_estimators=300,random_state=1), {}, None)\n",
    "add_clf(MLPClassifier(random_state=1, activation='relu', alpha=.0001, batch_size='auto', hidden_layer_sizes=(50,),learning_rate='adaptive', max_iter=300, momentum=0.99, solver='sgd', tol=.0001))\n",
    "add_clf(LogisticRegression(random_state=1, solver='lbfgs', max_iter=100, penalty='l2', C=.1)) \n",
    "add_clf(SGDClassifier(random_state=1, alpha=.01, eta0=.01, learning_rate='constant', loss='modified_huber', max_iter=1500, penalty='l1', tol=.001))\n",
    "add_clf(KNeighborsClassifier(n_neighbors=11, weights='uniform', p=1, leaf_size=15))\n",
    "# add_clf(LinearSVC(random_state=1, dual='auto', C=.1, max_iter=1000, penalty='l2', tol=1e-4))\n",
    "add_clf(RandomForestClassifier(random_state=1, max_depth=10, min_samples_leaf=2, n_estimators=100, min_samples_split=6), {}, None)\n",
    "# add_clf(GaussianNB())\n",
    "add_clf(AdaBoostClassifier(algorithm='SAMME.R', learning_rate=.1, random_state=1, n_estimators=400), {}, False)\n",
    "add_clf(NuSVC(random_state=1, kernel='poly', coef0=.5, nu=.4, probability=True))\n",
    "add_clf(SVC(random_state=1, probability=True, kernel='rbf', C=1, class_weight=None, coef0=0, degree=2, gamma='scale', tol=.001))\n",
    "add_clf(ExtraTreesClassifier(random_state=1, max_depth=10, min_samples_leaf=1, min_samples_split=5, n_estimators=250), {}, None)\n",
    "add_clf(LinearDiscriminantAnalysis())\n",
    "\n",
    "clf_labels = [model.__class__.__name__ for model in all_clf]\n",
    "\n",
    "tuned_clfs = []\n",
    "\n",
    "# Tune each classifier...\n",
    "for i, clf in enumerate(all_clf):\n",
    "    scaler = scalers[i]\n",
    "    name = clf.__class__.__name__ \n",
    "    hyper_params = hyper_param_grid[name]\n",
    "\n",
    "    if scaler:\n",
    "        clf = Pipeline([('sc', scaler()), (name, clf)])\n",
    "\n",
    "    if len(hyper_params) == 0:\n",
    "        # No need to gridsearch\n",
    "        clf.fit(X_train, y_train)\n",
    "        print(f\"Score for {name}:\" + str(clf.score(X_train, y_train)))\n",
    "        tuned_clfs.append(clf)\n",
    "    else:\n",
    "        grid_search = GridSearchCV(clf, param_grid=hyper_params, cv=5, n_jobs=-1, verbose=3)\n",
    "        grid_search.fit(X_train, y_train)\n",
    "        print(f\"Best parameters for {name}: {grid_search.best_params_} score={grid_search.best_score_}\")\n",
    "        tuned_clfs.append(grid_search.best_estimator_)\n",
    "\n",
    "mv_hard_clf = VotingClassifier(estimators=list(zip(clf_labels, tuned_clfs)), voting='hard')\n",
    "mv_hard_clf.fit(X_train, y_train)\n",
    "accuracy = mv_hard_clf.score(X_train, y_train)\n",
    "print(f\"Accuracy of the hard voting classifier: {accuracy}\")\n",
    "\n",
    "predictions = mv_hard_clf.predict(X_test)\n",
    "output = pd.DataFrame({'PassengerId': test_data.PassengerId, 'Survived': predictions})\n",
    "output.to_csv('submission_ensemble_hard.csv', index=False)\n",
    "\n",
    "mv_soft_clf = VotingClassifier(estimators=list(zip(clf_labels, tuned_clfs)), voting='soft')\n",
    "mv_soft_clf.fit(X_train, y_train)\n",
    "accuracy = mv_soft_clf.score(X_train, y_train)\n",
    "print(f\"Accuracy of the soft voting classifier: {accuracy}\")\n",
    "\n",
    "predictions = mv_soft_clf.predict(X_test)\n",
    "output = pd.DataFrame({'PassengerId': test_data.PassengerId, 'Survived': predictions})\n",
    "output.to_csv('submission_ensemble_soft.csv', index=False)\n"
   ]
  }
 ],
 "metadata": {
  "kernelspec": {
   "display_name": "Python 3",
   "language": "python",
   "name": "python3"
  },
  "language_info": {
   "codemirror_mode": {
    "name": "ipython",
    "version": 3
   },
   "file_extension": ".py",
   "mimetype": "text/x-python",
   "name": "python",
   "nbconvert_exporter": "python",
   "pygments_lexer": "ipython3",
   "version": "3.11.7"
  }
 },
 "nbformat": 4,
 "nbformat_minor": 2
}
